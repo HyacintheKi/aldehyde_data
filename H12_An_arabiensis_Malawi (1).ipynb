{
  "cells": [
    {
      "cell_type": "code",
      "execution_count": null,
      "metadata": {
        "id": "QhptJ84e5f5J"
      },
      "outputs": [],
      "source": [
        "%pip install -q --no-warn-conflicts malariagen_data"
      ]
    },
    {
      "cell_type": "code",
      "execution_count": null,
      "metadata": {
        "id": "AUjqePzs5f5K"
      },
      "outputs": [],
      "source": [
        "import warnings\n",
        "warnings.simplefilter(action='ignore', category=Warning)\n",
        "\n",
        "import malariagen_data"
      ]
    },
    {
      "cell_type": "code",
      "execution_count": null,
      "metadata": {
        "id": "Tx31kIgT5f5L"
      },
      "outputs": [],
      "source": [
        "try:\n",
        "    from google.colab import drive\n",
        "    drive.mount(\"drive\")\n",
        "except ImportError:\n",
        "    pass"
      ]
    },
    {
      "cell_type": "code",
      "execution_count": null,
      "metadata": {
        "id": "Fj4JI2M15f5M"
      },
      "outputs": [],
      "source": [
        "results_dir = \"drive/MyDrive/malariagen_data_cache\""
      ]
    },
    {
      "cell_type": "code",
      "execution_count": null,
      "metadata": {
        "id": "4tXxG9075f5N"
      },
      "outputs": [],
      "source": [
        "ag3 = malariagen_data.Ag3(results_cache=results_dir)\n",
        "ag3"
      ]
    },
    {
      "cell_type": "code",
      "execution_count": null,
      "metadata": {
        "id": "lQH8DfQx9huk"
      },
      "outputs": [],
      "source": [
        "sample_sets=[\"AG1000G-MW\"]"
      ]
    },
    {
      "cell_type": "code",
      "execution_count": null,
      "metadata": {
        "id": "sluNEgOY5f5Q"
      },
      "outputs": [],
      "source": [
        "ag3.plot_h12_gwss(\n",
        "    contig=\"2L\",\n",
        "    analysis=\"gamb_colu_arab\",\n",
        "    window_size=1500,\n",
        "    sample_sets=sample_sets,\n",
        "    sample_query=\"taxon =='arabiensis'\",\n",
        ")"
      ]
    }
  ],
  "metadata": {
    "celltoolbar": "Tags",
    "colab": {
      "provenance": []
    },
    "kernelspec": {
      "display_name": "developer-developer-training-nb-maintenance-mgen-9.0.0",
      "language": "python",
      "name": "conda-env-developer-developer-training-nb-maintenance-mgen-9.0.0-py"
    },
    "language_info": {
      "codemirror_mode": {
        "name": "ipython",
        "version": 3
      },
      "file_extension": ".py",
      "mimetype": "text/x-python",
      "name": "python",
      "nbconvert_exporter": "python",
      "pygments_lexer": "ipython3",
      "version": "3.10.11"
    }
  },
  "nbformat": 4,
  "nbformat_minor": 0
}